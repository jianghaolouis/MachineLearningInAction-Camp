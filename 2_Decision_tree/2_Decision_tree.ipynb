{
 "cells": [
  {
   "cell_type": "markdown",
   "metadata": {},
   "source": [
    "# Algo.2 Decision tree\n",
    "--- \n",
    "The decision tree distill data in to knowledge. with this, we can take a set of unfamiliar data and extract a set of rules which are often comparable to those given by human expert.\n",
    "There are three section in this chaptre:\n",
    "- methods to construct a tree(recursion)\n",
    "- metrics of measuring the algo's success\n",
    "- building a classifier and matplotlib it\n",
    "\n",
    "## procedures:\n",
    "___\n",
    "- collect: any method\n",
    "- prepare: the decision tree need nominal values, so continuous values will need to be quantized.\n",
    "- analyse: any\n",
    "- train : construct a tree data structure\n",
    "- test : error rate\n",
    "- use : any supervised learning. OFTEN trees are used to better understand the data.\n",
    "\n",
    "___\n",
    "\n",
    "## 1. tree Generation(D,A)\n",
    "\n",
    "```\n",
    "IF every item in the dataset is in the same class then:\n",
    "    return the class label\n",
    "Else choose the best feature to split the data\n",
    "     split the data\n",
    "     create a branch node\n",
    "         for each node, call self.func and add result to branch node\n",
    "         stop condition : - all instances have the same class (leaf node)\n",
    "                          - run out all the feature, take a majority vote                        \n",
    "return branch node\n",
    "\n",
    "\n",
    "```\n",
    "\n",
    "```\n",
    "definition :\n",
    "attribute/feature（the property used to split the dataset）, value (the value of attribute for one instance), label(class label of instance) \n",
    "\n",
    "* Important * the nesting dictionary forms the structure of tree：\n",
    "\n",
    "                            tree{key: value }, here is tree{a*, {value1, value2,value3 ...}} ,\n",
    "                            where a* is choosen feature and each value is relative subdataset\n",
    "                            tree = {attr_i:{}}  \n",
    "                            tree[best_ft_label][value] = new_tree(split(dataset, bestft, value), sub_attri) \n",
    "                                          (value here is to add new to dict)\n",
    "                                            \n",
    "                            output : {'no surfacing': {0: '0'}}\n",
    "```\n",
    "\n",
    "![Decision_tree](decision_tree.png)"
   ]
  },
  {
   "cell_type": "markdown",
   "metadata": {},
   "source": [
    "### calculate the Shannon entropy of a dataset\n",
    "k : class label indice.  Ent: entropy ( the higher entropy, the more mixed up the data is)\n",
    "$$ Ent(D) = - \\sum_{k=1}^{\\| y \\|} p_k log_2 p_k $$\n",
    "* to calculate entropy, we ONLY need the labels and not the dataset\n",
    "#### informaton gain(C3.5)\n",
    "\n",
    "\n",
    "$$ Gain(D,a) = Ent(D) - \\sum_{v=1}^{V} \\frac {D^v}{D} Ent(D^v)$$\n",
    "$$choosen \\quad feature : a^* = \\underset{a \\in A}{\\arg\\min} Gain(D,a) $$\n",
    "\n",
    "#### Geni impurity (CART)"
   ]
  },
  {
   "cell_type": "code",
   "execution_count": 1,
   "metadata": {},
   "outputs": [],
   "source": [
    "import decision_tree\n",
    "import numpy as np\n",
    "dataset = [[1,1,'yes'],[1,1,'yes'],[1,0,'no'],[0,1,'no'],[0,0,'no']]\n",
    "attribute = ['no surfacing','flippers']\n",
    "tree1 = decision_tree.decision_tree(dataset,attribute)"
   ]
  },
  {
   "cell_type": "code",
   "execution_count": 2,
   "metadata": {},
   "outputs": [
    {
     "name": "stdout",
     "output_type": "stream",
     "text": [
      "the entropy of the above dataset is 0.970951\n"
     ]
    }
   ],
   "source": [
    "print('the entropy of the above dataset is %f' % tree1.ent(tree1.dataset))    #%d %f %s"
   ]
  },
  {
   "cell_type": "markdown",
   "metadata": {},
   "source": [
    "### Dataset splitting on a given feature\n"
   ]
  },
  {
   "cell_type": "code",
   "execution_count": 3,
   "metadata": {},
   "outputs": [
    {
     "data": {
      "text/plain": [
       "[[1, 'yes'], [1, 'yes'], [0, 'no']]"
      ]
     },
     "execution_count": 3,
     "metadata": {},
     "output_type": "execute_result"
    }
   ],
   "source": [
    "dt=tree1.split(tree1.dataset,0,1)\n",
    "dt"
   ]
  },
  {
   "cell_type": "code",
   "execution_count": 4,
   "metadata": {},
   "outputs": [
    {
     "name": "stdout",
     "output_type": "stream",
     "text": [
      "the best feature to split the above dataset is: 0\n"
     ]
    }
   ],
   "source": [
    "# select the best feature:\n",
    "indice = tree1.ft_eval(tree1.dataset) \n",
    "print('the best feature to split the above dataset is: %d' %indice)"
   ]
  },
  {
   "cell_type": "code",
   "execution_count": 5,
   "metadata": {},
   "outputs": [
    {
     "data": {
      "text/plain": [
       "{'no surfacing': {0: 'no', 1: {'flippers': {0: 'no', 1: 'yes'}}}}"
      ]
     },
     "execution_count": 5,
     "metadata": {},
     "output_type": "execute_result"
    }
   ],
   "source": [
    "tree1.set_tree(tree1.new_tree(tree1.dataset,tree1.attribute))\n",
    "tree1.tree"
   ]
  },
  {
   "cell_type": "markdown",
   "metadata": {},
   "source": [
    "___\n",
    "## 2. Matplotlib tree plotting\n",
    "\n",
    "### plotting tree nodes with text annotations"
   ]
  },
  {
   "cell_type": "code",
   "execution_count": 6,
   "metadata": {},
   "outputs": [],
   "source": [
    "import matplotlib.pyplot as plt\n",
    "from treePlotter import *"
   ]
  },
  {
   "cell_type": "code",
   "execution_count": 7,
   "metadata": {},
   "outputs": [
    {
     "data": {
      "image/png": "[encoded data removed]",
      "text/plain": [
       "<Figure size 432x288 with 1 Axes>"
      ]
     },
     "metadata": {},
     "output_type": "display_data"
    }
   ],
   "source": [
    "# drawbox setting by default\n",
    "createPlot1()"
   ]
  },
  {
   "cell_type": "markdown",
   "metadata": {},
   "source": [
    "### construction a tree of annotations\n",
    "to properly size the plot, we should know:\n",
    "```\n",
    "X direction : how many leaf nodes : getNumLeafs\n",
    "Y direction : how many levels (depth) :getTreeDepth\n",
    "```"
   ]
  },
  {
   "cell_type": "code",
   "execution_count": 8,
   "metadata": {},
   "outputs": [
    {
     "data": {
      "text/plain": [
       "{'no surfacing': {0: 'no',\n",
       "  1: {'flippers': {0: {'head': {0: 'no', 1: 'yes'}}, 1: 'no'}}}}"
      ]
     },
     "execution_count": 8,
     "metadata": {},
     "output_type": "execute_result"
    }
   ],
   "source": [
    "#pull out a predifined tree for testing.\n",
    "myTree = retrieveTree(1)\n",
    "myTree"
   ]
  },
  {
   "cell_type": "code",
   "execution_count": 9,
   "metadata": {},
   "outputs": [
    {
     "data": {
      "text/plain": [
       "2"
      ]
     },
     "execution_count": 9,
     "metadata": {},
     "output_type": "execute_result"
    }
   ],
   "source": [
    "getTreeDepth(tree1.tree)"
   ]
  },
  {
   "cell_type": "code",
   "execution_count": 10,
   "metadata": {},
   "outputs": [
    {
     "data": {
      "text/plain": [
       "3"
      ]
     },
     "execution_count": 10,
     "metadata": {},
     "output_type": "execute_result"
    }
   ],
   "source": [
    "getNumLeafs(tree1.tree)"
   ]
  },
  {
   "cell_type": "code",
   "execution_count": 11,
   "metadata": {},
   "outputs": [
    {
     "data": {
      "image/png": "[encoded data removed]",
      "text/plain": [
       "<Figure size 432x288 with 1 Axes>"
      ]
     },
     "metadata": {},
     "output_type": "display_data"
    }
   ],
   "source": [
    "createPlot(tree1.tree)"
   ]
  },
  {
   "cell_type": "markdown",
   "metadata": {},
   "source": [
    "___\n",
    "\n",
    "## 3. Testing and storing the clasisfier "
   ]
  },
  {
   "cell_type": "code",
   "execution_count": 12,
   "metadata": {},
   "outputs": [
    {
     "data": {
      "text/plain": [
       "{'no surfacing': {0: 'no', 1: {'flippers': {0: 'no', 1: 'yes'}}}}"
      ]
     },
     "execution_count": 12,
     "metadata": {},
     "output_type": "execute_result"
    }
   ],
   "source": [
    "tree1.tree"
   ]
  },
  {
   "cell_type": "code",
   "execution_count": 13,
   "metadata": {},
   "outputs": [
    {
     "data": {
      "text/plain": [
       "['no surfacing', 'flippers']"
      ]
     },
     "execution_count": 13,
     "metadata": {},
     "output_type": "execute_result"
    }
   ],
   "source": [
    "tree1.attribute"
   ]
  },
  {
   "cell_type": "code",
   "execution_count": 14,
   "metadata": {},
   "outputs": [
    {
     "name": "stdout",
     "output_type": "stream",
     "text": [
      "the predicted label for test vector inX is : yes\n"
     ]
    }
   ],
   "source": [
    "inX =[1,1]\n",
    "print('the predicted label for test vector inX is : %s' % tree1.predict(tree1.tree,inX,tree1.attribute))"
   ]
  },
  {
   "cell_type": "code",
   "execution_count": 15,
   "metadata": {},
   "outputs": [],
   "source": [
    "# write in byte format into local disc. IMPORTANT : the file is stored in byte format.\n",
    "tree1.store_tree()"
   ]
  },
  {
   "cell_type": "markdown",
   "metadata": {},
   "source": [
    "![new_tree.txt](tree_store.png)"
   ]
  },
  {
   "cell_type": "code",
   "execution_count": 16,
   "metadata": {},
   "outputs": [
    {
     "data": {
      "text/plain": [
       "{'no surfacing': {0: 'no', 1: {'flippers': {0: 'no', 1: 'yes'}}}}"
      ]
     },
     "execution_count": 16,
     "metadata": {},
     "output_type": "execute_result"
    }
   ],
   "source": [
    "# reload the tree from local disc\n",
    "tree2 = decision_tree.decision_tree([],\"\")\n",
    "tree2.grab_tree('new_tree.txt')\n",
    "tree2.tree"
   ]
  },
  {
   "cell_type": "markdown",
   "metadata": {},
   "source": [
    "## 4. Example : predict contact lens type"
   ]
  },
  {
   "cell_type": "code",
   "execution_count": 17,
   "metadata": {},
   "outputs": [
    {
     "data": {
      "text/plain": [
       "[['young', 'myope', 'no', 'reduced', 'no lenses'],\n",
       " ['young', 'myope', 'no', 'normal', 'soft'],\n",
       " ['young', 'myope', 'yes', 'reduced', 'no lenses'],\n",
       " ['young', 'myope', 'yes', 'normal', 'hard'],\n",
       " ['young', 'hyper', 'no', 'reduced', 'no lenses'],\n",
       " ['young', 'hyper', 'no', 'normal', 'soft'],\n",
       " ['young', 'hyper', 'yes', 'reduced', 'no lenses'],\n",
       " ['young', 'hyper', 'yes', 'normal', 'hard'],\n",
       " ['pre', 'myope', 'no', 'reduced', 'no lenses'],\n",
       " ['pre', 'myope', 'no', 'normal', 'soft'],\n",
       " ['pre', 'myope', 'yes', 'reduced', 'no lenses'],\n",
       " ['pre', 'myope', 'yes', 'normal', 'hard'],\n",
       " ['pre', 'hyper', 'no', 'reduced', 'no lenses'],\n",
       " ['pre', 'hyper', 'no', 'normal', 'soft'],\n",
       " ['pre', 'hyper', 'yes', 'reduced', 'no lenses'],\n",
       " ['pre', 'hyper', 'yes', 'normal', 'no lenses'],\n",
       " ['presbyopic', 'myope', 'no', 'reduced', 'no lenses'],\n",
       " ['presbyopic', 'myope', 'no', 'normal', 'no lenses'],\n",
       " ['presbyopic', 'myope', 'yes', 'reduced', 'no lenses'],\n",
       " ['presbyopic', 'myope', 'yes', 'normal', 'hard'],\n",
       " ['presbyopic', 'hyper', 'no', 'reduced', 'no lenses'],\n",
       " ['presbyopic', 'hyper', 'no', 'normal', 'soft'],\n",
       " ['presbyopic', 'hyper', 'yes', 'reduced', 'no lenses'],\n",
       " ['presbyopic', 'hyper', 'yes', 'normal', 'no lenses']]"
      ]
     },
     "execution_count": 17,
     "metadata": {},
     "output_type": "execute_result"
    }
   ],
   "source": [
    "with open('lenses.txt','r') as fr:\n",
    "    lenses_dataset = [instance.strip().split('\\t') for instance in fr.readlines()]\n",
    "    lenses_attri = ['age', 'prescipt','astigmatic','tear_rate']\n",
    "\n",
    "# plot dataset format\n",
    "lenses_dataset"
   ]
  },
  {
   "cell_type": "code",
   "execution_count": 18,
   "metadata": {},
   "outputs": [
    {
     "data": {
      "text/plain": [
       "['age', 'prescipt', 'astigmatic', 'tear_rate']"
      ]
     },
     "execution_count": 18,
     "metadata": {},
     "output_type": "execute_result"
    }
   ],
   "source": [
    "# the features for classification\n",
    "lenses_attri"
   ]
  },
  {
   "cell_type": "code",
   "execution_count": 19,
   "metadata": {},
   "outputs": [],
   "source": [
    "#define a new tree\n",
    "lenses = decision_tree.decision_tree(lenses_dataset,lenses_attri)\n",
    "#construct the tree structure by dataset\n",
    "lenses.set_tree(lenses.new_tree(lenses.dataset,lenses.attribute)) #no return"
   ]
  },
  {
   "cell_type": "code",
   "execution_count": 20,
   "metadata": {},
   "outputs": [
    {
     "data": {
      "text/plain": [
       "{'tear_rate': {'normal': {'astigmatic': {'yes': {'prescipt': {'myope': 'hard',\n",
       "      'hyper': {'age': {'pre': 'no lenses',\n",
       "        'presbyopic': 'no lenses',\n",
       "        'young': 'hard'}}}},\n",
       "    'no': {'age': {'pre': 'soft',\n",
       "      'presbyopic': {'prescipt': {'myope': 'no lenses', 'hyper': 'soft'}},\n",
       "      'young': 'soft'}}}},\n",
       "  'reduced': 'no lenses'}}"
      ]
     },
     "execution_count": 20,
     "metadata": {},
     "output_type": "execute_result"
    }
   ],
   "source": [
    "#self.tree trained tree structure \n",
    "lenses.tree"
   ]
  },
  {
   "cell_type": "markdown",
   "metadata": {},
   "source": [
    "#### Decision tree generated by the ID3 algorithm"
   ]
  },
  {
   "cell_type": "code",
   "execution_count": 21,
   "metadata": {},
   "outputs": [
    {
     "data": {
      "image/png": "[encoded data removed]",
      "text/plain": [
       "<Figure size 432x288 with 1 Axes>"
      ]
     },
     "metadata": {},
     "output_type": "display_data"
    }
   ],
   "source": [
    "#plot tree using matplotlib\n",
    "createPlot(lenses.tree)"
   ]
  }
 ],
 "metadata": {
  "kernelspec": {
   "display_name": "Python 3",
   "language": "python",
   "name": "python3"
  },
  "language_info": {
   "codemirror_mode": {
    "name": "ipython",
    "version": 3
   },
   "file_extension": ".py",
   "mimetype": "text/x-python",
   "name": "python",
   "nbconvert_exporter": "python",
   "pygments_lexer": "ipython3",
   "version": "3.6.5"
  }
 },
 "nbformat": 4,
 "nbformat_minor": 2
}
