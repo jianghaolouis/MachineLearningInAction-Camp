{
 "cells": [
  {
   "cell_type": "markdown",
   "metadata": {},
   "source": [
    "## Example 2 Digit recognition\n",
    "\n",
    "- Collect : image file provided\n",
    "- prepare : write a function to convert the image format to the list format that can be used in kNN_Classify0\n",
    "- analyse : check the prepared data if there are some outliers and possible significant features\n",
    "- train : no need to apply kNN here\n",
    "- test : error of text_data\n",
    "- use : extract digits from an image and use.\n",
    "\n",
    "00000000000001111111111111111111\n",
    "00000000000111111111111111111111\n",
    "00000000000111111111111111111111\n",
    "00000000001111111111111111111110\n",
    "00000000000111111111111111111110\n",
    "00000000000111111111100001111100\n",
    "00000000000000000000000001111100\n",
    "00000000000000000000000001111100\n",
    "00000000000000000000000011111000\n",
    "00000000000000000000000111111000\n",
    "00000000000000000000001111110000\n",
    "00000000000000000000001111100000\n",
    "00000000000000000000001111100000\n",
    "00000000000000000000111111000000\n",
    "00000000000000000000111111000000\n",
    "00000000000000000111111110000000\n",
    "00000000000001111111111111000000\n",
    "00000000000011111111111111100000\n",
    "00000000000111111111111111000000\n",
    "00000000000111111111111110000000\n",
    "00000000001111111111110000000000\n",
    "00000000000111111111100000000000\n",
    "00000000000000001111100000000000\n",
    "00000000000000011111000000000000\n",
    "00000000000000111111000000000000\n",
    "00000000000001111110000000000000\n",
    "00000000000001111110000000000000\n",
    "00000000000001111110000000000000\n",
    "00000000000011111100000000000000\n",
    "00000000000111111000000000000000\n",
    "\n",
    "```\n",
    "def img2vec(filename):\n",
    "    with open(filename,'r') as fr:\n",
    "        raw_image = fr.readlines()                     # text is a string format\n",
    "        _nb_row = len(raw_image)\n",
    "        _nb_col = len(raw_image[0])\n",
    "        _vec = np.empty(_nb_row * _nb_col)\n",
    "        for i in range(_nb_row):\n",
    "            _vec[_nb_col*(i-1) : _nb_col*i] = int(raw_image[i])\n",
    "    return _vec\n",
    "    \n",
    "```\n",
    "\n",
    "上面这样倒入会产生\\n转义字符都被导入的情况。原本32个数字变成33个字符。用readlines的时候，每一行是一个str，这么大的一个数被转成了string。  \n",
    "同时，不像之前的文件有delimeter(空格，逗号)，这里没有间隔字符。所以只能用strip去掉换行然后转换成list，在用list（）切割转换成np array."
   ]
  },
  {
   "cell_type": "markdown",
   "metadata": {},
   "source": [
    "```\n",
    "    with open(filepath,'r') as dossier:\n",
    "        raw_image = [row.strip() for row in dossier.readlines()]\n",
    "        img_feature = np.array(list(''.join(raw_image)),dtype = 'i4')     # i4 means int32\n",
    "    return img_feature\n",
    "\n",
    "```\n",
    "\n",
    "##### 枚举法 enumerate\n",
    "它允许我们遍历数据并自动计数.  enumerate 每次读取list里面一个元素，用value指向。\n",
    "for counter, value in enumerate(some_list):  \n",
    "    print(counter, value)\n",
    "    \n",
    "    \n",
    "    ```\n",
    "    fld = os.listdir(folder)\n",
    "    for i, digit in enumeratr(fld):\n",
    "        digitPath = os.path.join(folder,digit)\n",
    "        feature_array[i,:] = load_image(digitpath)\n",
    "        label[i] = digit.split('_')[0]\n",
    "    ```\n",
    "##### function format\n",
    "```\n",
    "input :'{} {}'.format('one', 'two')  \n",
    "output : 'one', 'two' \n",
    "input : ' %d %f %s' % % %\n",
    "```\n",
    "\n",
    "    \n"
   ]
  },
  {
   "cell_type": "code",
   "execution_count": 1,
   "metadata": {},
   "outputs": [],
   "source": [
    "import os\n",
    "from lib.utility import load_image, images_data\n",
    "from lib import kNN\n",
    "\n",
    "import matplotlib.pyplot as plt\n",
    "import matplotlib\n"
   ]
  },
  {
   "cell_type": "markdown",
   "metadata": {},
   "source": [
    "### Analyse : Visualizing the handwitten digits "
   ]
  },
  {
   "cell_type": "code",
   "execution_count": 2,
   "metadata": {},
   "outputs": [
    {
     "data": {
      "image/png": "[encoded data removed]",
      "text/plain": [
       "<Figure size 360x360 with 9 Axes>"
      ]
     },
     "metadata": {},
     "output_type": "display_data"
    }
   ],
   "source": [
    "# join the file path together\n",
    "digit_filepath = [os.path.join('data','digits','trainingDigits','{}_0.txt'.format(i)) for i in range(1,10)]   # take only digit 1-9\n",
    "f, ax = plt.subplots(3, 3, figsize=(5, 5))\n",
    "for i, digit in enumerate(digit_filepath):\n",
    "    digit_image = load_image(digit).reshape(32,32)   # load_image return a vector of 1024 pixel\n",
    "    # imshow fucntion \n",
    "    ax[int(i/3), i%3].imshow(digit_image, cmap=matplotlib.cm.binary,interpolation = 'nearest')\n",
    "    ax[int(i/3), i%3].axis('off')\n",
    "    "
   ]
  },
  {
   "cell_type": "markdown",
   "metadata": {},
   "source": [
    "### Load training dataset and testing dataset\n",
    "Actually，kNN doesn't train a model."
   ]
  },
  {
   "cell_type": "code",
   "execution_count": 3,
   "metadata": {},
   "outputs": [
    {
     "data": {
      "text/plain": [
       "'data/digits/trainingDigits'"
      ]
     },
     "execution_count": 3,
     "metadata": {},
     "output_type": "execute_result"
    }
   ],
   "source": [
    "training_folder = os.path.join('data','digits','trainingDigits')\n",
    "testing_folder = os.path.join('data','digits','testDigits')\n",
    "training_folder"
   ]
  },
  {
   "cell_type": "code",
   "execution_count": 4,
   "metadata": {},
   "outputs": [
    {
     "name": "stdout",
     "output_type": "stream",
     "text": [
      "There are totally 1934 training samples in the file\n",
      "There are totally 946 test samples in the file\n",
      "There are 1024 features\n"
     ]
    }
   ],
   "source": [
    "train_f,train_l = images_data(training_folder)\n",
    "test_f,test_l = images_data(testing_folder)\n",
    "print('There are totally {} training samples in the file'.format(train_f.shape[0]))\n",
    "print('There are totally {} test samples in the file'.format(test_f.shape[0]))\n",
    "print('There are {} features'.format(train_f.shape[1]))"
   ]
  },
  {
   "cell_type": "markdown",
   "metadata": {},
   "source": [
    "### Accuracy for test dataset ："
   ]
  },
  {
   "cell_type": "code",
   "execution_count": 5,
   "metadata": {},
   "outputs": [
    {
     "name": "stdout",
     "output_type": "stream",
     "text": [
      "The accuracy of kNN method for digit recognition is : 0.9883720930232558\n"
     ]
    }
   ],
   "source": [
    "error_count = 0.0\n",
    "error_dict = {}\n",
    "for i, test_digit in enumerate(test_f):\n",
    "    predict_nb = kNN.kNN_Classify0(test_digit, train_f, train_l, k=3)  \n",
    "    if predict_nb != test_l[i]:\n",
    "        error_count+=1\n",
    "        error_dict[i] = predict_nb\n",
    "error_rate = error_count/float(len(test_f))\n",
    "print('The accuracy of kNN method for digit recognition is : {}'.format(1.0-error_rate))\n"
   ]
  },
  {
   "cell_type": "code",
   "execution_count": 6,
   "metadata": {},
   "outputs": [
    {
     "name": "stdout",
     "output_type": "stream",
     "text": [
      "the following digits are bad predicted: [21, 25, 99, 106, 260, 272, 420, 477, 699, 720, 847]\n",
      "the 21th digit is 8, but its predicted as 1\n"
     ]
    }
   ],
   "source": [
    "error_list = list(error_dict.keys())\n",
    "print( 'the following digits are bad predicted: {}'.format(error_list))\n",
    "print( 'the {}th digit is {}, but its predicted to be {}'.format(error_list[0], test_l[error_list[0]], error_dict[error_list[0]]))"
   ]
  },
  {
   "cell_type": "markdown",
   "metadata": {},
   "source": [
    "### Some error examples : "
   ]
  },
  {
   "cell_type": "code",
   "execution_count": 30,
   "metadata": {},
   "outputs": [
    {
     "data": {
      "image/png": "[encoded data removed]",
      "text/plain": [
       "<Figure size 720x720 with 9 Axes>"
      ]
     },
     "metadata": {},
     "output_type": "display_data"
    }
   ],
   "source": [
    "folder = os.path.join('data','digits','testDigits')\n",
    "list_dir=os.listdir(folder)\n",
    "fig, ax2 = plt.subplots(3, 3, figsize=(10, 10))\n",
    "folder\n",
    "for i in range(9):\n",
    "    digit_dir= os.path.join(folder,list_dir[error_list[i]])\n",
    "    digit_image = load_image(digit_dir).reshape(32,32)\n",
    "    ax2[int(i/3), i%3].imshow(digit_image, cmap=matplotlib.cm.binary,interpolation = 'nearest')\n",
    "    ax2[int(i/3), i%3].set_title('The prediction is : {} \\n but real label is : {}'.format(error_dict[error_list[i]],test_l[error_list[i]]))\n",
    "    ax2[int(i/3), i%3].axis('off')\n",
    "    "
   ]
  }
 ],
 "metadata": {
  "kernelspec": {
   "display_name": "Python 3",
   "language": "python",
   "name": "python3"
  },
  "language_info": {
   "codemirror_mode": {
    "name": "ipython",
    "version": 3
   },
   "file_extension": ".py",
   "mimetype": "text/x-python",
   "name": "python",
   "nbconvert_exporter": "python",
   "pygments_lexer": "ipython3",
   "version": "3.6.5"
  }
 },
 "nbformat": 4,
 "nbformat_minor": 2
}
