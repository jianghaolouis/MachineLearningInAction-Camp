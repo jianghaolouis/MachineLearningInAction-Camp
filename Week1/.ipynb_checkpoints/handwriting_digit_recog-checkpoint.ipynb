{
 "cells": [
  {
   "cell_type": "markdown",
   "metadata": {},
   "source": [
    "## Example 2 Digit recognition\n",
    "\n",
    "- Collect : image file provided\n",
    "- prepare : write a function to convert the image format to the list format that can be used in kNN_Classify0\n",
    "- analyse : check the prepared data if there are some outliers and possible significant features\n",
    "- train : no need to apply kNN here\n",
    "- test : error of text_data\n",
    "- use : extract digits from an image and use.\n",
    "\n",
    "00000000000001111111111111111111\n",
    "00000000000111111111111111111111\n",
    "00000000000111111111111111111111\n",
    "00000000001111111111111111111110\n",
    "00000000000111111111111111111110\n",
    "00000000000111111111100001111100\n",
    "00000000000000000000000001111100\n",
    "00000000000000000000000001111100\n",
    "00000000000000000000000011111000\n",
    "00000000000000000000000111111000\n",
    "00000000000000000000001111110000\n",
    "00000000000000000000001111100000\n",
    "00000000000000000000001111100000\n",
    "00000000000000000000111111000000\n",
    "00000000000000000000111111000000\n",
    "00000000000000000111111110000000\n",
    "00000000000001111111111111000000\n",
    "00000000000011111111111111100000\n",
    "00000000000111111111111111000000\n",
    "00000000000111111111111110000000\n",
    "00000000001111111111110000000000\n",
    "00000000000111111111100000000000\n",
    "00000000000000001111100000000000\n",
    "00000000000000011111000000000000\n",
    "00000000000000111111000000000000\n",
    "00000000000001111110000000000000\n",
    "00000000000001111110000000000000\n",
    "00000000000001111110000000000000\n",
    "00000000000011111100000000000000\n",
    "00000000000111111000000000000000\n",
    "\n",
    "```\n",
    "def img2vec(filename):\n",
    "    with open(filename,'r') as fr:\n",
    "        raw_image = fr.readlines()                     # text is a string format\n",
    "        _nb_row = len(raw_image)\n",
    "        _nb_col = len(raw_image[0])\n",
    "        _vec = np.empty(_nb_row * _nb_col)\n",
    "        for i in range(_nb_row):\n",
    "            _vec[_nb_col*(i-1) : _nb_col*i] = int(raw_image[i])\n",
    "    return _vec\n",
    "    \n",
    "```\n",
    "\n",
    "上面这样倒入会产生\\n转义字符都被导入的情况。原本32个数字变成33个字符。用readlines的时候，每一行是一个str，这么大的一个数被转成了string。  \n",
    "同时，不像之前的文件有delimeter(空格，逗号)，这里没有间隔字符。所以只能用strip去掉换行然后转换成list，在用list（）切割转换成np array."
   ]
  },
  {
   "cell_type": "markdown",
   "metadata": {},
   "source": [
    "```\n",
    "    with open(filepath,'r') as dossier:\n",
    "        raw_image = [row.strip() for row in dossier.readlines()]\n",
    "        img_feature = np.array(list(''.join(raw_image)),dtype = 'i4')     # i4 means int32\n",
    "    return img_feature\n",
    "\n",
    "```\n",
    "\n",
    "##### 枚举法 enumerate\n",
    "它允许我们遍历数据并自动计数.  enumerate 每次读取list里面一个元素，用value指向。\n",
    "for counter, value in enumerate(some_list):  \n",
    "    print(counter, value)\n",
    "    \n",
    "    \n",
    "    ```\n",
    "    fld = os.listdir(folder)\n",
    "    for i, digit in enumeratr(fld):\n",
    "        digitPath = os.path.join(folder,digit)\n",
    "        feature_array[i,:] = load_image(digitpath)\n",
    "        label[i] = digit.split('_')[0]\n",
    "    ```\n",
    "    \n",
    "    \n",
    "    \n"
   ]
  },
  {
   "cell_type": "code",
   "execution_count": 1,
   "metadata": {},
   "outputs": [],
   "source": [
    "import kNN"
   ]
  },
  {
   "cell_type": "code",
   "execution_count": 3,
   "metadata": {},
   "outputs": [],
   "source": [
    "img_vector = kNN.load_image('/Users/jianghao/Desktop/ML_in_action/MachineLearningInAction-Camp/Week1/digits/trainingDigits/0_4.txt')"
   ]
  },
  {
   "cell_type": "code",
   "execution_count": 7,
   "metadata": {},
   "outputs": [
    {
     "data": {
      "text/plain": [
       "array([0, 0, 0, ..., 0, 0, 0], dtype=int32)"
      ]
     },
     "execution_count": 7,
     "metadata": {},
     "output_type": "execute_result"
    }
   ],
   "source": [
    "len(img_vector)\n",
    "img_vector"
   ]
  },
  {
   "cell_type": "code",
   "execution_count": null,
   "metadata": {},
   "outputs": [],
   "source": []
  }
 ],
 "metadata": {
  "kernelspec": {
   "display_name": "Python 3",
   "language": "python",
   "name": "python3"
  },
  "language_info": {
   "codemirror_mode": {
    "name": "ipython",
    "version": 3
   },
   "file_extension": ".py",
   "mimetype": "text/x-python",
   "name": "python",
   "nbconvert_exporter": "python",
   "pygments_lexer": "ipython3",
   "version": "3.6.5"
  }
 },
 "nbformat": 4,
 "nbformat_minor": 2
}
